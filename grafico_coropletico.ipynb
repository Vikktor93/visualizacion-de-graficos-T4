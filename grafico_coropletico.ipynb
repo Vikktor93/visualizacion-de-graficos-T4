{
 "cells": [
  {
   "cell_type": "markdown",
   "metadata": {},
   "source": [
    "## **Gráfico Coroplético: Distribución del Porcentaje de Pobreza por Ingresos en las Regiones de Chile (2022)**\n"
   ]
  },
  {
   "cell_type": "markdown",
   "metadata": {},
   "source": [
    "### **IMPORTACIÓN DE LIBRERÍAS**"
   ]
  },
  {
   "cell_type": "code",
   "execution_count": 1,
   "metadata": {},
   "outputs": [],
   "source": [
    "import geopandas as gpd\n",
    "import pandas as pd\n",
    "import matplotlib.pyplot as plt"
   ]
  },
  {
   "cell_type": "markdown",
   "metadata": {},
   "source": [
    "### **CARGAR EL ARCHIVO SHAPEFILE**"
   ]
  },
  {
   "cell_type": "code",
   "execution_count": 2,
   "metadata": {},
   "outputs": [],
   "source": [
    "shapefile_path = './geodata/REGIONES_2020.shp'\n",
    "gdf = gpd.read_file(shapefile_path)"
   ]
  },
  {
   "cell_type": "markdown",
   "metadata": {},
   "source": [
    "### **CANTIDAD DE FILAS DE GEODATAFRAME**"
   ]
  },
  {
   "cell_type": "code",
   "execution_count": 3,
   "metadata": {},
   "outputs": [
    {
     "name": "stdout",
     "output_type": "stream",
     "text": [
      "CUT_REG       16\n",
      "REGION        16\n",
      "SUPERFICIE    16\n",
      "geometry      16\n",
      "dtype: int64\n"
     ]
    }
   ],
   "source": [
    "print(gdf.count())"
   ]
  },
  {
   "cell_type": "markdown",
   "metadata": {},
   "source": [
    "### **VERIFICAR LAS PRIMERAS FILAS DEL GEODATAFRAME**"
   ]
  },
  {
   "cell_type": "code",
   "execution_count": 4,
   "metadata": {},
   "outputs": [
    {
     "name": "stdout",
     "output_type": "stream",
     "text": [
      "   CUT_REG                                     REGION  SUPERFICIE  \\\n",
      "0       11  Aysén del General Carlos Ibáñez del Campo   106796.55   \n",
      "1       07                                      Maule    30321.08   \n",
      "2       02                                Antofagasta   126066.54   \n",
      "3       09                               La Araucanía    31811.89   \n",
      "4       12       Magallanes y de la Antártica Chilena   130482.00   \n",
      "5       06      Libertador General Bernardo O'Higgins    16347.03   \n",
      "6       03                                    Atacama    75650.08   \n",
      "7       05                                 Valparaíso    16240.50   \n",
      "8       10                                  Los Lagos    48372.46   \n",
      "9       08                                     Biobío    23996.18   \n",
      "10      01                                   Tarapacá    42288.81   \n",
      "11      13                  Metropolitana de Santiago    15401.94   \n",
      "12      14                                   Los Ríos    18324.18   \n",
      "13      15                         Arica y Parinacota    16864.28   \n",
      "14      16                                      Ñuble    13096.62   \n",
      "15      04                                   Coquimbo    40587.56   \n",
      "\n",
      "                                             geometry  \n",
      "0   MULTIPOLYGON (((-75.67611 -48.68930, -75.67621...  \n",
      "1   POLYGON ((-71.11427 -36.36115, -71.11476 -36.3...  \n",
      "2   MULTIPOLYGON (((-70.73894 -25.82711, -70.73895...  \n",
      "3   POLYGON ((-72.30222 -39.49778, -72.30407 -39.4...  \n",
      "4   MULTIPOLYGON (((-71.36913 -54.37388, -71.36886...  \n",
      "5   MULTIPOLYGON (((-72.01093 -34.13910, -72.01118...  \n",
      "6   MULTIPOLYGON (((-71.50368 -29.15626, -71.50377...  \n",
      "7   MULTIPOLYGON (((-71.89396 -33.97382, -71.89417...  \n",
      "8   MULTIPOLYGON (((-74.84450 -43.59681, -74.84461...  \n",
      "9   MULTIPOLYGON (((-73.95178 -38.37038, -73.95190...  \n",
      "10  MULTIPOLYGON (((-70.19988 -20.75336, -70.20004...  \n",
      "11  POLYGON ((-70.82483 -33.95345, -70.82478 -33.9...  \n",
      "12  MULTIPOLYGON (((-73.25151 -39.45604, -73.25163...  \n",
      "13  POLYGON ((-69.07223 -19.02723, -69.07200 -19.0...  \n",
      "14  MULTIPOLYGON (((-72.80957 -36.13053, -72.80976...  \n",
      "15  MULTIPOLYGON (((-71.51969 -31.93917, -71.51978...  \n"
     ]
    }
   ],
   "source": [
    "print(gdf.head(16))"
   ]
  },
  {
   "cell_type": "markdown",
   "metadata": {},
   "source": [
    "### **VERIFICAR LOS NOMBRES DE LAS COLUMNAS DEL GEODATAFRAME**"
   ]
  },
  {
   "cell_type": "code",
   "execution_count": 5,
   "metadata": {},
   "outputs": [
    {
     "name": "stdout",
     "output_type": "stream",
     "text": [
      "Index(['CUT_REG', 'REGION', 'SUPERFICIE', 'geometry'], dtype='object')\n"
     ]
    }
   ],
   "source": [
    "print(gdf.columns)"
   ]
  },
  {
   "cell_type": "markdown",
   "metadata": {},
   "source": [
    "### **CARGAR DATAFRAME FUSIONADO**"
   ]
  },
  {
   "cell_type": "code",
   "execution_count": 6,
   "metadata": {},
   "outputs": [],
   "source": [
    "df_merge = pd.read_csv('./data/df_merge_preliminar.csv')"
   ]
  },
  {
   "cell_type": "markdown",
   "metadata": {},
   "source": [
    "### **DICCIONARIO PARA REEMPLAZAR LOS NOMBRES DE REGIONES**"
   ]
  },
  {
   "cell_type": "code",
   "execution_count": 7,
   "metadata": {},
   "outputs": [],
   "source": [
    "reemplazos_regiones = {\n",
    "    'Tarapacá': 'Tarapacá',\n",
    "    'Antofagasta': 'Antofagasta',\n",
    "    'Atacama': 'Atacama',\n",
    "    'Coquimbo': 'Coquimbo',\n",
    "    'Valparaíso': 'Valparaíso',\n",
    "    'O\\'Higgins': 'Libertador General Bernardo O\\'Higgins',\n",
    "    'Maule': 'Maule',\n",
    "    'Biobío': 'Biobío',\n",
    "    'La Araucanía': 'La Araucanía',\n",
    "    'Los Lagos': 'Los Lagos',\n",
    "    'Aysén': 'Aysén del General Carlos Ibáñez del Campo',\n",
    "    'Magallanes': 'Magallanes y de la Antártica Chilena',\n",
    "    'Metropolitana': 'Metropolitana de Santiago',\n",
    "    'Los Ríos': 'Los Ríos',\n",
    "    'Arica y Parinacota': 'Arica y Parinacota',\n",
    "    'Ñuble': 'Ñuble'\n",
    "}"
   ]
  },
  {
   "cell_type": "markdown",
   "metadata": {},
   "source": [
    "### **REEMPLAZAR LOS NOMBRES DE LAS REGIONES EN EL DATAFRAME**"
   ]
  },
  {
   "cell_type": "code",
   "execution_count": 8,
   "metadata": {},
   "outputs": [],
   "source": [
    "df_merge['region'] = df_merge['region'].replace(reemplazos_regiones)"
   ]
  },
  {
   "cell_type": "markdown",
   "metadata": {},
   "source": [
    "### **FUSIONAR EL SHAPEFILE CON EL DATAFRAME**"
   ]
  },
  {
   "cell_type": "code",
   "execution_count": 9,
   "metadata": {},
   "outputs": [],
   "source": [
    "# Se fusiona por la columna 'REGION' en el shapefile y 'region' en el dataframe\n",
    "gdf_merge = gdf.merge(df_merge, left_on='REGION', right_on='region', how='left')"
   ]
  },
  {
   "cell_type": "code",
   "execution_count": 10,
   "metadata": {},
   "outputs": [
    {
     "name": "stdout",
     "output_type": "stream",
     "text": [
      "   CUT_REG                                     REGION  SUPERFICIE  \\\n",
      "0       11  Aysén del General Carlos Ibáñez del Campo   106796.55   \n",
      "1       11  Aysén del General Carlos Ibáñez del Campo   106796.55   \n",
      "2       11  Aysén del General Carlos Ibáñez del Campo   106796.55   \n",
      "3       11  Aysén del General Carlos Ibáñez del Campo   106796.55   \n",
      "4       11  Aysén del General Carlos Ibáñez del Campo   106796.55   \n",
      "5       11  Aysén del General Carlos Ibáñez del Campo   106796.55   \n",
      "6       11  Aysén del General Carlos Ibáñez del Campo   106796.55   \n",
      "7       11  Aysén del General Carlos Ibáñez del Campo   106796.55   \n",
      "8       11  Aysén del General Carlos Ibáñez del Campo   106796.55   \n",
      "9       11  Aysén del General Carlos Ibáñez del Campo   106796.55   \n",
      "10      07                                      Maule    30321.08   \n",
      "11      07                                      Maule    30321.08   \n",
      "12      07                                      Maule    30321.08   \n",
      "13      07                                      Maule    30321.08   \n",
      "14      07                                      Maule    30321.08   \n",
      "15      07                                      Maule    30321.08   \n",
      "\n",
      "                                             geometry   codigo  \\\n",
      "0   MULTIPOLYGON (((-75.67611 -48.68930, -75.67621...  11101.0   \n",
      "1   MULTIPOLYGON (((-75.67611 -48.68930, -75.67621...  11102.0   \n",
      "2   MULTIPOLYGON (((-75.67611 -48.68930, -75.67621...  11201.0   \n",
      "3   MULTIPOLYGON (((-75.67611 -48.68930, -75.67621...  11202.0   \n",
      "4   MULTIPOLYGON (((-75.67611 -48.68930, -75.67621...  11203.0   \n",
      "5   MULTIPOLYGON (((-75.67611 -48.68930, -75.67621...  11301.0   \n",
      "6   MULTIPOLYGON (((-75.67611 -48.68930, -75.67621...  11302.0   \n",
      "7   MULTIPOLYGON (((-75.67611 -48.68930, -75.67621...  11303.0   \n",
      "8   MULTIPOLYGON (((-75.67611 -48.68930, -75.67621...  11401.0   \n",
      "9   MULTIPOLYGON (((-75.67611 -48.68930, -75.67621...  11402.0   \n",
      "10  POLYGON ((-71.11427 -36.36115, -71.11476 -36.3...   7101.0   \n",
      "11  POLYGON ((-71.11427 -36.36115, -71.11476 -36.3...   7102.0   \n",
      "12  POLYGON ((-71.11427 -36.36115, -71.11476 -36.3...   7103.0   \n",
      "13  POLYGON ((-71.11427 -36.36115, -71.11476 -36.3...   7104.0   \n",
      "14  POLYGON ((-71.11427 -36.36115, -71.11476 -36.3...   7105.0   \n",
      "15  POLYGON ((-71.11427 -36.36115, -71.11476 -36.3...   7106.0   \n",
      "\n",
      "                                       region        comuna  poblacion  \\\n",
      "0   Aysén del General Carlos Ibáñez del Campo     Coyhaique    61766.0   \n",
      "1   Aysén del General Carlos Ibáñez del Campo    Lago Verde      913.0   \n",
      "2   Aysén del General Carlos Ibáñez del Campo         Aysén    25100.0   \n",
      "3   Aysén del General Carlos Ibáñez del Campo        Cisnes     5862.0   \n",
      "4   Aysén del General Carlos Ibáñez del Campo     Guaitecas     1606.0   \n",
      "5   Aysén del General Carlos Ibáñez del Campo      Cochrane     3722.0   \n",
      "6   Aysén del General Carlos Ibáñez del Campo     O’higgins      672.0   \n",
      "7   Aysén del General Carlos Ibáñez del Campo        Tortel      574.0   \n",
      "8   Aysén del General Carlos Ibáñez del Campo   Chile Chico     5143.0   \n",
      "9   Aysén del General Carlos Ibáñez del Campo    Río Ibáñez     2705.0   \n",
      "10                                      Maule         Talca   240239.0   \n",
      "11                                      Maule  Constitución    50536.0   \n",
      "12                                      Maule       Curepto     9255.0   \n",
      "13                                      Maule     Empedrado     4195.0   \n",
      "14                                      Maule         Maule    65590.0   \n",
      "15                                      Maule       Pelarco     9289.0   \n",
      "\n",
      "    personas_pobreza_por_ingresos  porcentaje_pobreza_por_ingresos_2022  \\\n",
      "0                          1781.0                              0.028835   \n",
      "1                             8.0                              0.008747   \n",
      "2                          1325.0                              0.052799   \n",
      "3                           290.0                              0.049516   \n",
      "4                            97.0                              0.060503   \n",
      "5                           236.0                              0.063282   \n",
      "6                            62.0                              0.091574   \n",
      "7                            26.0                              0.045925   \n",
      "8                           319.0                              0.062021   \n",
      "9                           189.0                              0.069848   \n",
      "10                        13759.0                              0.057270   \n",
      "11                         5463.0                              0.108107   \n",
      "12                         1305.0                              0.140996   \n",
      "13                          528.0                              0.125862   \n",
      "14                         5951.0                              0.090725   \n",
      "15                         1094.0                              0.117798   \n",
      "\n",
      "    limite_inferior_ingreso  limite_superior_ingreso presencia_comuna_casen  \\\n",
      "0                  0.020832                 0.036839                     Sí   \n",
      "1                  0.000000                 0.035579                     Sí   \n",
      "2                  0.037369                 0.068229                     Sí   \n",
      "3                  0.006519                 0.092513                     Sí   \n",
      "4                  0.010666                 0.110339                     No   \n",
      "5                  0.016141                 0.110422                     Sí   \n",
      "6                  0.001554                 0.181595                     No   \n",
      "7                  0.000000                 0.093368                     Sí   \n",
      "8                  0.009592                 0.114449                     Sí   \n",
      "9                  0.017955                 0.121741                     Sí   \n",
      "10                 0.041657                 0.072884                     Sí   \n",
      "11                 0.073244                 0.142971                     Sí   \n",
      "12                 0.085455                 0.196538                     Sí   \n",
      "13                 0.069516                 0.182207                     Sí   \n",
      "14                 0.056133                 0.125317                     Sí   \n",
      "15                 0.066614                 0.168983                     Sí   \n",
      "\n",
      "               tipo_de_estimacion_sae  \\\n",
      "0   Directa y Sintética (Fay-Herriot)   \n",
      "1                           Sintética   \n",
      "2   Directa y Sintética (Fay-Herriot)   \n",
      "3                           Sintética   \n",
      "4                           Sintética   \n",
      "5                           Sintética   \n",
      "6                           Sintética   \n",
      "7                           Sintética   \n",
      "8                           Sintética   \n",
      "9                           Sintética   \n",
      "10  Directa y Sintética (Fay-Herriot)   \n",
      "11  Directa y Sintética (Fay-Herriot)   \n",
      "12  Directa y Sintética (Fay-Herriot)   \n",
      "13                          Sintética   \n",
      "14  Directa y Sintética (Fay-Herriot)   \n",
      "15                          Sintética   \n",
      "\n",
      "    porcentaje_pobreza_multidimensional_2022  \\\n",
      "0                                   0.139617   \n",
      "1                                   0.179514   \n",
      "2                                   0.127971   \n",
      "3                                   0.123009   \n",
      "4                                   0.221544   \n",
      "5                                   0.143496   \n",
      "6                                   0.121125   \n",
      "7                                   0.122953   \n",
      "8                                   0.163458   \n",
      "9                                   0.188434   \n",
      "10                                  0.106425   \n",
      "11                                  0.171668   \n",
      "12                                  0.124888   \n",
      "13                                  0.181039   \n",
      "14                                  0.110368   \n",
      "15                                  0.206006   \n",
      "\n",
      "    limite_inferior_multidimensional  limite_superior_multidimensional  \n",
      "0                           0.123110                          0.156123  \n",
      "1                           0.097083                          0.261945  \n",
      "2                           0.100818                          0.155123  \n",
      "3                           0.080024                          0.165994  \n",
      "4                           0.129576                          0.313513  \n",
      "5                           0.085287                          0.201705  \n",
      "6                           0.027847                          0.214403  \n",
      "7                           0.051860                          0.194046  \n",
      "8                           0.083703                          0.243213  \n",
      "9                           0.094129                          0.282740  \n",
      "10                          0.088273                          0.124577  \n",
      "11                          0.123591                          0.219746  \n",
      "12                          0.072529                          0.177247  \n",
      "13                          0.123068                          0.239009  \n",
      "14                          0.069152                          0.151584  \n",
      "15                          0.146904                          0.265109  \n"
     ]
    }
   ],
   "source": [
    "# Verificar que los datos se hayan fusionado correctamente\n",
    "print(gdf_merge.head(16))"
   ]
  },
  {
   "cell_type": "code",
   "execution_count": 13,
   "metadata": {},
   "outputs": [],
   "source": [
    "# Verificar el CRS actual y reproyecta a UTM zone 19S (Chile)\n",
    "gdf_merge_projected = gdf_merge.to_crs(epsg=32719)  # UTM zone 19S"
   ]
  },
  {
   "cell_type": "markdown",
   "metadata": {},
   "source": [
    "### **PERSONALIZACIÓN DEL GRÁFICO**"
   ]
  },
  {
   "cell_type": "code",
   "execution_count": 23,
   "metadata": {},
   "outputs": [
    {
     "data": {
      "image/png": "[encoded data removed]",
      "text/plain": [
       "<Figure size 1000x1000 with 2 Axes>"
      ]
     },
     "metadata": {},
     "output_type": "display_data"
    }
   ],
   "source": [
    "# Crear el gráfico geográfico\n",
    "fig, ax = plt.subplots(1, 1, figsize=(10, 10))\n",
    "\n",
    "# Plotear las regiones y colorear según el porcentaje de pobreza por ingresos\n",
    "plot = gdf_merge_projected.plot(column='porcentaje_pobreza_por_ingresos_2022', \n",
    "                                cmap='RdPu', \n",
    "                                linewidth=0.8, \n",
    "                                ax=ax, \n",
    "                                edgecolor='0.8', \n",
    "                                legend=False)\n",
    "\n",
    "# Crear manualmente la barra de color y ajustarla\n",
    "cbar = plt.cm.ScalarMappable(cmap='RdPu', norm=plt.Normalize(vmin=gdf_merge['porcentaje_pobreza_por_ingresos_2022'].min(), vmax=gdf_merge['porcentaje_pobreza_por_ingresos_2022'].max()))\n",
    "cbar = fig.colorbar(cbar, ax=ax, fraction=0.03, pad=0.04)\n",
    "cbar.ax.tick_params(labelsize=8)\n",
    "\n",
    "# Etiqueta para la barra de color\n",
    "fig.text(0.88, 0.24, 'Porcentaje de Pobreza', ha='center', va='top', fontsize=9, color='black')\n",
    "\n",
    "# Eliminar los ejes\n",
    "ax.set_xticks([])\n",
    "ax.set_yticks([])\n",
    "\n",
    "# Eliminar el borde del gráfico\n",
    "ax.spines['top'].set_visible(False)\n",
    "ax.spines['bottom'].set_visible(False)\n",
    "ax.spines['left'].set_visible(False)\n",
    "ax.spines['right'].set_visible(False)\n",
    "\n",
    "# Etiquetas de porcentaje colocadas manualmente con líneas horizontales hacia la izquierda\n",
    "manual_labels = {\n",
    "    'Antofagasta': {'pos': (-80, 7400000), 'text': '15.23%'},\n",
    "    'Atacama': {'pos': (-80, 7200000), 'text': '14.85%'},\n",
    "    'Coquimbo': {'pos': (-80, 7050000), 'text': '12.01%'},\n",
    "    'Valparaíso': {'pos': (-80, 6800000), 'text': '11.23%'},\n",
    "    'Biobío': {'pos': (-80, 6400000), 'text': '10.45%'},\n",
    "    'Los Lagos': {'pos': (-80, 6100000), 'text': '9.23%'}\n",
    "}\n",
    "\n",
    "# Dibujar las etiquetas manualmente con líneas horizontales hacia la izquierda\n",
    "for region, data in manual_labels.items():\n",
    "    # Centroides de las regiones para posicionar las flechas\n",
    "    region_centroid = gdf_merge_projected.loc[gdf_merge_projected['REGION'] == region].geometry.centroid\n",
    "    centroid_x = region_centroid.x.values[0]\n",
    "    centroid_y = region_centroid.y.values[0]\n",
    "    \n",
    "    # Etiquetas con flechas horizontales\n",
    "    ax.annotate(text=data['text'], \n",
    "                xy=(centroid_x, centroid_y),  # Posición de la flecha\n",
    "                xytext=(data['pos'][0], centroid_y),  # Mantener el y constante, mover x a la izquierda\n",
    "                arrowprops=dict(arrowstyle=\"->\", lw=1.5, color='black'), \n",
    "                fontsize=9, color='black', weight='bold')\n",
    "\n",
    "# Título\n",
    "ax.set_title('Porcentaje de Pobreza por Ingresos (2022)', \n",
    "             fontsize=12, weight='bold')\n",
    "\n",
    "# Subtítulo centrado en la parte superior de la figura\n",
    "fig.suptitle('Distribución por Regiones en Chile', fontsize=10, weight='light', color='gray', x=0.5, y=0.89, ha='center')\n",
    "\n",
    "# Eliminar los márgenes alrededor del mapa\n",
    "plt.subplots_adjust(left=0.05, right=0.9, top=0.95, bottom=0.05)\n",
    "plt.show()\n"
   ]
  }
 ],
 "metadata": {
  "kernelspec": {
   "display_name": "MachineLearning",
   "language": "python",
   "name": "python3"
  },
  "language_info": {
   "codemirror_mode": {
    "name": "ipython",
    "version": 3
   },
   "file_extension": ".py",
   "mimetype": "text/x-python",
   "name": "python",
   "nbconvert_exporter": "python",
   "pygments_lexer": "ipython3",
   "version": "3.10.15"
  }
 },
 "nbformat": 4,
 "nbformat_minor": 2
}
